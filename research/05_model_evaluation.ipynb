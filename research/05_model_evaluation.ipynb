{
 "cells": [
  {
   "cell_type": "code",
   "execution_count": 1,
   "metadata": {},
   "outputs": [],
   "source": [
    "import os"
   ]
  },
  {
   "cell_type": "code",
   "execution_count": 2,
   "metadata": {},
   "outputs": [
    {
     "data": {
      "text/plain": [
       "'d:\\\\py4e\\\\Machine_Learning_from_scratch\\\\Machine Learning\\\\Industry Ready Projects\\\\Wine-Quality-Prediction-MLOPS-with-MLflow\\\\research'"
      ]
     },
     "execution_count": 2,
     "metadata": {},
     "output_type": "execute_result"
    }
   ],
   "source": [
    "%pwd"
   ]
  },
  {
   "cell_type": "code",
   "execution_count": 3,
   "metadata": {},
   "outputs": [],
   "source": [
    "os.chdir(\"../\")"
   ]
  },
  {
   "cell_type": "code",
   "execution_count": 4,
   "metadata": {},
   "outputs": [
    {
     "data": {
      "text/plain": [
       "'d:\\\\py4e\\\\Machine_Learning_from_scratch\\\\Machine Learning\\\\Industry Ready Projects\\\\Wine-Quality-Prediction-MLOPS-with-MLflow'"
      ]
     },
     "execution_count": 4,
     "metadata": {},
     "output_type": "execute_result"
    }
   ],
   "source": [
    "%pwd"
   ]
  },
  {
   "cell_type": "code",
   "execution_count": 5,
   "metadata": {},
   "outputs": [],
   "source": [
    "os.environ[\"MLFLOW_TRACKING_URI\"]=\"https://dagshub.com/yashwanthreddy7178/Wine-Quality-Prediction-MLOPS-with-MLflow.mlflow\"\n",
    "os.environ[\"MLFLOW_TRACKING_USERNAME\"]=\"yashwanthreddy7178\"\n",
    "os.environ[\"MLFLOW_TRACKING_PASSWORD\"]=\"2f0a09218b79018bb56442916a9544eb88a54c20\""
   ]
  },
  {
   "cell_type": "code",
   "execution_count": 8,
   "metadata": {},
   "outputs": [],
   "source": [
    "from dataclasses import dataclass\n",
    "from pathlib import Path\n",
    "from typing import Dict\n",
    "\n",
    "@dataclass(frozen=True)\n",
    "class ModelEvaluationConfig:\n",
    "    root_dir: Path\n",
    "    test_data_path: Path\n",
    "    model_path: Path\n",
    "    all_params: Dict[str, str]  # Update the type according to the actual content of all_params\n",
    "    metric_file_name: Path\n",
    "    target_column: str\n",
    "    mlflow_uri: str\n"
   ]
  },
  {
   "cell_type": "code",
   "execution_count": 7,
   "metadata": {},
   "outputs": [],
   "source": [
    "from mlProject.constants import *\n",
    "from mlProject.utils.common import read_yaml, create_directories, save_json"
   ]
  },
  {
   "cell_type": "code",
   "execution_count": 9,
   "metadata": {},
   "outputs": [],
   "source": [
    "class ConfigurationManager:\n",
    "    def __init__(\n",
    "        self,\n",
    "        config_filepath = CONFIG_FILE_PATH,\n",
    "        params_filepath = PARAMS_FILE_PATH,\n",
    "        schema_filepath = SCHEMA_FILE_PATH):\n",
    "\n",
    "        self.config = read_yaml(config_filepath)\n",
    "        self.params = read_yaml(params_filepath)\n",
    "        self.schema = read_yaml(schema_filepath)\n",
    "\n",
    "        create_directories([self.config.artifacts_root])\n",
    "\n",
    "    \n",
    "    def get_model_evaluation_config(self) -> ModelEvaluationConfig:\n",
    "        config = self.config.model_evaluation\n",
    "        params = self.params.ElasticNet\n",
    "        schema =  self.schema.TARGET_COLUMN\n",
    "\n",
    "        create_directories([config.root_dir])\n",
    "\n",
    "        model_evaluation_config = ModelEvaluationConfig(\n",
    "            root_dir=config.root_dir,\n",
    "            test_data_path=config.test_data_path,\n",
    "            model_path = config.model_path,\n",
    "            all_params=params,\n",
    "            metric_file_name = config.metric_file_name,\n",
    "            target_column = schema.name,\n",
    "            mlflow_uri=\"https://dagshub.com/yashwanthreddy7178/Wine-Quality-Prediction-MLOPS-with-MLflow.mlflow\",\n",
    "           \n",
    "        )\n",
    "\n",
    "        return model_evaluation_config\n"
   ]
  },
  {
   "cell_type": "code",
   "execution_count": 10,
   "metadata": {},
   "outputs": [],
   "source": [
    "import os\n",
    "import pandas as pd\n",
    "from sklearn.metrics import mean_squared_error, mean_absolute_error, r2_score\n",
    "from urllib.parse import urlparse\n",
    "import mlflow\n",
    "import mlflow.sklearn\n",
    "import numpy as np\n",
    "import joblib"
   ]
  },
  {
   "cell_type": "code",
   "execution_count": 11,
   "metadata": {},
   "outputs": [],
   "source": [
    "class ModelEvaluation:\n",
    "    def __init__(self, config: ModelEvaluationConfig):\n",
    "        self.config = config\n",
    "\n",
    "    def eval_metrics(self, actual, pred):\n",
    "        rmse = np.sqrt(mean_squared_error(actual, pred))\n",
    "        mae = mean_absolute_error(actual, pred)\n",
    "        r2 = r2_score(actual, pred)\n",
    "        return rmse, mae, r2\n",
    "\n",
    "    def log_into_mlflow(self):\n",
    "        try:\n",
    "            # Load test data and model\n",
    "            test_data = pd.read_csv(self.config.test_data_path)\n",
    "            model = joblib.load(self.config.model_path)\n",
    "\n",
    "            # Prepare test data\n",
    "            test_x = test_data.drop([self.config.target_column], axis=1)\n",
    "            test_y = test_data[[self.config.target_column]]\n",
    "\n",
    "            # Set MLflow registry URI\n",
    "            mlflow.set_registry_uri(self.config.mlflow_uri)\n",
    "            tracking_url_type_store = urlparse(mlflow.get_tracking_uri()).scheme\n",
    "            mlflow.set_experiment('Wine-Quality-Prediction')\n",
    "\n",
    "            with mlflow.start_run():\n",
    "                # Make predictions\n",
    "                predicted_qualities = model.predict(test_x)\n",
    "\n",
    "                # Evaluate metrics\n",
    "                (rmse, mae, r2) = self.eval_metrics(test_y, predicted_qualities)\n",
    "\n",
    "                # Save metrics as local JSON\n",
    "                scores = {\"rmse\": rmse, \"mae\": mae, \"r2\": r2}\n",
    "                save_json(path=Path(self.config.metric_file_name), data=scores)\n",
    "                try:\n",
    "                    mlflow.log_params(self.config.all_params)\n",
    "                    print(self.config.all_params)\n",
    "                    mlflow.log_metric(\"rmse\", rmse)\n",
    "                    mlflow.log_metric(\"r2\", r2)\n",
    "                    mlflow.log_metric(\"mae\", mae)\n",
    "\n",
    "                    if tracking_url_type_store != \"file\":\n",
    "                        mlflow.sklearn.log_model(model, \"model\", registered_model_name=\"ElasticnetModel\")\n",
    "                    else:\n",
    "                        mlflow.sklearn.log_model(model, \"model\")\n",
    "\n",
    "                    print('Model evaluation and logging into MLflow completed successfully.')\n",
    "\n",
    "                except mlflow.exceptions.MlflowException as e:\n",
    "                    print(f'MLflow exception: {e}')\n",
    "                except Exception as e:\n",
    "                    print(f'Error: {e}')\n",
    "                    raise e\n",
    "\n",
    "        except Exception as e:\n",
    "            print(f'Error: {e}')\n",
    "            raise e"
   ]
  },
  {
   "cell_type": "code",
   "execution_count": 12,
   "metadata": {},
   "outputs": [
    {
     "name": "stdout",
     "output_type": "stream",
     "text": [
      "[2024-02-05 21:28:00,910: INFO: common: yaml file: config\\config.yaml loaded successfully]\n",
      "[2024-02-05 21:28:00,915: INFO: common: yaml file: params.yaml loaded successfully]\n",
      "[2024-02-05 21:28:00,924: INFO: common: yaml file: schema.yaml loaded successfully]\n",
      "[2024-02-05 21:28:00,927: INFO: common: created directory at: artifacts]\n",
      "[2024-02-05 21:28:00,930: INFO: common: created directory at: artifacts/model_evaluation]\n",
      "ModelEvaluationConfig(root_dir='artifacts/model_evaluation', test_data_path='artifacts/data_transformation/test.csv', model_path='artifacts/model_trainer/model.joblib', all_params=ConfigBox({'alpha': 0.2, 'l1_ratio': 0.1}), metric_file_name='artifacts/model_evaluation/metrics.json', target_column='quality', mlflow_uri='https://dagshub.com/yashwanthreddy7178/Wine-Quality-Prediction-MLOPS-with-MLflow.mlflow')\n",
      "[2024-02-05 21:28:02,895: INFO: common: json file saved at: artifacts\\model_evaluation\\metrics.json]\n",
      "{'alpha': 0.2, 'l1_ratio': 0.1}\n"
     ]
    },
    {
     "name": "stderr",
     "output_type": "stream",
     "text": [
      "Registered model 'ElasticnetModel' already exists. Creating a new version of this model...\n",
      "2024/02/05 21:28:16 INFO mlflow.store.model_registry.abstract_store: Waiting up to 300 seconds for model version to finish creation. Model name: ElasticnetModel, version 5\n"
     ]
    },
    {
     "name": "stdout",
     "output_type": "stream",
     "text": [
      "Model evaluation and logging into MLflow completed successfully.\n"
     ]
    },
    {
     "name": "stderr",
     "output_type": "stream",
     "text": [
      "Created version '5' of model 'ElasticnetModel'.\n"
     ]
    }
   ],
   "source": [
    "try:\n",
    "    config = ConfigurationManager()\n",
    "    model_evaluation_config = config.get_model_evaluation_config()\n",
    "    print(model_evaluation_config)  # print the configuration values\n",
    "    model_evaluation_config = ModelEvaluation(config=model_evaluation_config)\n",
    "    model_evaluation_config.log_into_mlflow()\n",
    "except Exception as e:\n",
    "    raise e"
   ]
  },
  {
   "cell_type": "code",
   "execution_count": 26,
   "metadata": {},
   "outputs": [
    {
     "name": "stdout",
     "output_type": "stream",
     "text": [
      "Parameter logged successfully with MLflow version 1.28.0.\n"
     ]
    }
   ],
   "source": [
    "import mlflow\n",
    "\n",
    "# Set the MLflow tracking URI and credentials again with the updated version\n",
    "mlflow.set_tracking_uri('https://dagshub.com/yashwanthreddy7178/Wine-Quality-Prediction-MLOPS-with-MLflow.mlflow')\n",
    "mlflow.set_experiment('Wine-Quality-Prediction')\n",
    "\n",
    "# Set environment variables for authentication\n",
    "import os\n",
    "os.environ['MLFLOW_TRACKING_USERNAME'] = 'yashwanthreddy7178'\n",
    "os.environ['MLFLOW_TRACKING_PASSWORD'] = '2f0a09218b79018bb56442916a9544eb88a54c20'\n",
    "\n",
    "# Start a new MLflow run and log a parameter\n",
    "with mlflow.start_run():\n",
    "    mlflow.log_param(\"test_param\", \"test_value\")\n",
    "print('Parameter logged successfully with MLflow version 1.28.0.')"
   ]
  }
 ],
 "metadata": {
  "kernelspec": {
   "display_name": "mlproj",
   "language": "python",
   "name": "python3"
  },
  "language_info": {
   "codemirror_mode": {
    "name": "ipython",
    "version": 3
   },
   "file_extension": ".py",
   "mimetype": "text/x-python",
   "name": "python",
   "nbconvert_exporter": "python",
   "pygments_lexer": "ipython3",
   "version": "3.10.13"
  },
  "orig_nbformat": 4
 },
 "nbformat": 4,
 "nbformat_minor": 2
}
